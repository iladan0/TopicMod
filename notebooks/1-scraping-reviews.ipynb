{
 "cells": [
  {
   "cell_type": "code",
   "execution_count": 1,
   "id": "c4904586-4ff6-4142-a8f2-27aa49dec96f",
   "metadata": {
    "execution": {
     "iopub.execute_input": "2022-09-30T12:39:12.088116Z",
     "iopub.status.busy": "2022-09-30T12:39:12.087118Z",
     "iopub.status.idle": "2022-09-30T12:39:12.123022Z",
     "shell.execute_reply": "2022-09-30T12:39:12.121027Z",
     "shell.execute_reply.started": "2022-09-30T12:39:12.088116Z"
    },
    "tags": []
   },
   "outputs": [],
   "source": [
    "import sys\n",
    "import os\n",
    "sys.path.append(os.path.join(os.path.dirname(\"__file__\"), \"..\"))"
   ]
  },
  {
   "cell_type": "markdown",
   "id": "8b2777ba-bc19-4fe5-9689-8048d7ada66e",
   "metadata": {},
   "source": [
    "# Importing pacakges"
   ]
  },
  {
   "cell_type": "code",
   "execution_count": 2,
   "id": "7cbade84-1180-4a01-8cc3-1a6410d028d8",
   "metadata": {
    "execution": {
     "iopub.execute_input": "2022-09-30T12:39:13.636808Z",
     "iopub.status.busy": "2022-09-30T12:39:13.635811Z",
     "iopub.status.idle": "2022-09-30T12:39:15.866380Z",
     "shell.execute_reply": "2022-09-30T12:39:15.864385Z",
     "shell.execute_reply.started": "2022-09-30T12:39:13.636808Z"
    },
    "tags": []
   },
   "outputs": [],
   "source": [
    "import pandas as pd\n",
    "from topicmod.scraping.aviscrap import scrap_all, scrap_ids, scrap_reviews"
   ]
  },
  {
   "cell_type": "code",
   "execution_count": 3,
   "id": "b23e1129-a4b9-4fdd-aad3-dd1bd4dda2a5",
   "metadata": {
    "execution": {
     "iopub.execute_input": "2022-09-30T12:39:15.870368Z",
     "iopub.status.busy": "2022-09-30T12:39:15.869371Z",
     "iopub.status.idle": "2022-09-30T12:39:15.883334Z",
     "shell.execute_reply": "2022-09-30T12:39:15.880342Z",
     "shell.execute_reply.started": "2022-09-30T12:39:15.870368Z"
    },
    "tags": []
   },
   "outputs": [],
   "source": [
    "pd.set_option('display.max_colwidth', None)"
   ]
  },
  {
   "cell_type": "markdown",
   "id": "a90255a2-f98b-4732-a296-9bd885518783",
   "metadata": {},
   "source": [
    "# Loading data"
   ]
  },
  {
   "cell_type": "code",
   "execution_count": 4,
   "id": "d4b314d8-18ac-4896-94e9-28ff6d96b55f",
   "metadata": {
    "execution": {
     "iopub.execute_input": "2022-09-30T12:39:15.888321Z",
     "iopub.status.busy": "2022-09-30T12:39:15.887324Z",
     "iopub.status.idle": "2022-09-30T12:39:15.898295Z",
     "shell.execute_reply": "2022-09-30T12:39:15.896299Z",
     "shell.execute_reply.started": "2022-09-30T12:39:15.888321Z"
    },
    "tags": []
   },
   "outputs": [],
   "source": [
    "input_dir = r\"../data/input/scraping\"\n",
    "output_dir = r\"../data/output/scraping\""
   ]
  },
  {
   "cell_type": "code",
   "execution_count": 5,
   "id": "bf5bd7eb-b779-46e5-a669-0d2c9b607871",
   "metadata": {
    "execution": {
     "iopub.execute_input": "2022-09-30T12:39:15.904278Z",
     "iopub.status.busy": "2022-09-30T12:39:15.903282Z",
     "iopub.status.idle": "2022-09-30T12:39:15.994038Z",
     "shell.execute_reply": "2022-09-30T12:39:15.991047Z",
     "shell.execute_reply.started": "2022-09-30T12:39:15.904278Z"
    },
    "tags": []
   },
   "outputs": [],
   "source": [
    "df_agencies = pd.read_csv(os.path.join(input_dir,\"agences_coords.csv\"),sep = \";\", encoding = \"utf-8-sig\")"
   ]
  },
  {
   "cell_type": "code",
   "execution_count": 6,
   "id": "2623384e-fd7c-4982-93bd-543450921a56",
   "metadata": {
    "execution": {
     "iopub.execute_input": "2022-09-30T12:39:16.166579Z",
     "iopub.status.busy": "2022-09-30T12:39:16.164584Z",
     "iopub.status.idle": "2022-09-30T12:39:16.261329Z",
     "shell.execute_reply": "2022-09-30T12:39:16.258334Z",
     "shell.execute_reply.started": "2022-09-30T12:39:16.166579Z"
    },
    "tags": []
   },
   "outputs": [
    {
     "data": {
      "text/html": [
       "<div>\n",
       "<style scoped>\n",
       "    .dataframe tbody tr th:only-of-type {\n",
       "        vertical-align: middle;\n",
       "    }\n",
       "\n",
       "    .dataframe tbody tr th {\n",
       "        vertical-align: top;\n",
       "    }\n",
       "\n",
       "    .dataframe thead th {\n",
       "        text-align: right;\n",
       "    }\n",
       "</style>\n",
       "<table border=\"1\" class=\"dataframe\">\n",
       "  <thead>\n",
       "    <tr style=\"text-align: right;\">\n",
       "      <th></th>\n",
       "      <th>nom_banque</th>\n",
       "      <th>code_etab</th>\n",
       "      <th>nom_etab</th>\n",
       "      <th>code_agence</th>\n",
       "      <th>nom_agence</th>\n",
       "      <th>rue</th>\n",
       "      <th>coords</th>\n",
       "    </tr>\n",
       "  </thead>\n",
       "  <tbody>\n",
       "    <tr>\n",
       "      <th>2151</th>\n",
       "      <td>Banque Populaire</td>\n",
       "      <td>10207</td>\n",
       "      <td>Banque Populaire Rives de Paris</td>\n",
       "      <td>00152</td>\n",
       "      <td>ERMONT</td>\n",
       "      <td>33, rue de la Halte</td>\n",
       "      <td>48.989705,2.261654</td>\n",
       "    </tr>\n",
       "    <tr>\n",
       "      <th>5114</th>\n",
       "      <td>Caisse d'Epargne</td>\n",
       "      <td>11425</td>\n",
       "      <td>NORMANDIE</td>\n",
       "      <td>76032</td>\n",
       "      <td>DIEPPE BELVEDERE</td>\n",
       "      <td>ZAC DU BELVEDERE</td>\n",
       "      <td>49.90199,1.080965</td>\n",
       "    </tr>\n",
       "    <tr>\n",
       "      <th>3255</th>\n",
       "      <td>Caisse d'Epargne</td>\n",
       "      <td>14445</td>\n",
       "      <td>BRETAGNE-PAYS DE LOIRE</td>\n",
       "      <td>514</td>\n",
       "      <td>LA GENERAUDIERE</td>\n",
       "      <td>16 RUE DUCHESNE DE DENANT</td>\n",
       "      <td>46.65213,-1.440602</td>\n",
       "    </tr>\n",
       "    <tr>\n",
       "      <th>4544</th>\n",
       "      <td>Caisse d'Epargne</td>\n",
       "      <td>14505</td>\n",
       "      <td>LOIRE CENTRE</td>\n",
       "      <td>691</td>\n",
       "      <td>CHATEAURENARD</td>\n",
       "      <td>PLACE DU CHATEAU</td>\n",
       "      <td>47.930458,2.927555</td>\n",
       "    </tr>\n",
       "    <tr>\n",
       "      <th>2056</th>\n",
       "      <td>Banque Populaire</td>\n",
       "      <td>10207</td>\n",
       "      <td>Banque Populaire Rives de Paris</td>\n",
       "      <td>00041</td>\n",
       "      <td>PARIS NOTRE DAME</td>\n",
       "      <td>54-56, bd Saint Germain</td>\n",
       "      <td>48.850017,2.349436</td>\n",
       "    </tr>\n",
       "  </tbody>\n",
       "</table>\n",
       "</div>"
      ],
      "text/plain": [
       "            nom_banque  code_etab                         nom_etab  \\\n",
       "2151  Banque Populaire      10207  Banque Populaire Rives de Paris   \n",
       "5114  Caisse d'Epargne      11425                        NORMANDIE   \n",
       "3255  Caisse d'Epargne      14445           BRETAGNE-PAYS DE LOIRE   \n",
       "4544  Caisse d'Epargne      14505                     LOIRE CENTRE   \n",
       "2056  Banque Populaire      10207  Banque Populaire Rives de Paris   \n",
       "\n",
       "     code_agence        nom_agence                        rue  \\\n",
       "2151       00152            ERMONT        33, rue de la Halte   \n",
       "5114       76032  DIEPPE BELVEDERE           ZAC DU BELVEDERE   \n",
       "3255         514   LA GENERAUDIERE  16 RUE DUCHESNE DE DENANT   \n",
       "4544         691     CHATEAURENARD           PLACE DU CHATEAU   \n",
       "2056       00041  PARIS NOTRE DAME    54-56, bd Saint Germain   \n",
       "\n",
       "                  coords  \n",
       "2151  48.989705,2.261654  \n",
       "5114   49.90199,1.080965  \n",
       "3255  46.65213,-1.440602  \n",
       "4544  47.930458,2.927555  \n",
       "2056  48.850017,2.349436  "
      ]
     },
     "execution_count": 6,
     "metadata": {},
     "output_type": "execute_result"
    }
   ],
   "source": [
    "df_agencies.sample(5)"
   ]
  },
  {
   "cell_type": "markdown",
   "id": "de6f7c14-4da1-48de-8930-8ad6ec8b1c98",
   "metadata": {},
   "source": [
    "# Collecting reviews"
   ]
  },
  {
   "cell_type": "code",
   "execution_count": 7,
   "id": "74d92a6a-d5cb-41fb-a81f-5146cf8bc565",
   "metadata": {
    "execution": {
     "iopub.execute_input": "2022-09-30T12:39:18.908882Z",
     "iopub.status.busy": "2022-09-30T12:39:18.907884Z",
     "iopub.status.idle": "2022-09-30T13:31:42.751476Z",
     "shell.execute_reply": "2022-09-30T13:31:42.749492Z",
     "shell.execute_reply.started": "2022-09-30T12:39:18.908882Z"
    },
    "tags": []
   },
   "outputs": [
    {
     "name": "stderr",
     "output_type": "stream",
     "text": [
      "C:\\Users\\BENREKIA\\AppData\\Local\\miniforge3\\envs\\env_2\\lib\\site-packages\\pandas\\core\\frame.py:3191: SettingWithCopyWarning: \n",
      "A value is trying to be set on a copy of a slice from a DataFrame.\n",
      "Try using .loc[row_indexer,col_indexer] = value instead\n",
      "\n",
      "See the caveats in the documentation: https://pandas.pydata.org/pandas-docs/stable/user_guide/indexing.html#returning-a-view-versus-a-copy\n",
      "  self[k1] = value[k2]\n",
      "C:\\Users\\BENREKIA\\Documents\\Stage\\Workspace\\1.2-bertopic-app\\notebooks\\..\\topicmod\\scraping\\aviscrap.py:122: SettingWithCopyWarning: \n",
      "A value is trying to be set on a copy of a slice from a DataFrame.\n",
      "Try using .loc[row_indexer,col_indexer] = value instead\n",
      "\n",
      "See the caveats in the documentation: https://pandas.pydata.org/pandas-docs/stable/user_guide/indexing.html#returning-a-view-versus-a-copy\n",
      "  df_wi['geopoints'] = df_wi.apply(lambda x: format_geopoints(x.lat, x.lng), axis=1)\n",
      "C:\\Users\\BENREKIA\\AppData\\Local\\miniforge3\\envs\\env_2\\lib\\site-packages\\pandas\\core\\frame.py:4308: SettingWithCopyWarning: \n",
      "A value is trying to be set on a copy of a slice from a DataFrame\n",
      "\n",
      "See the caveats in the documentation: https://pandas.pydata.org/pandas-docs/stable/user_guide/indexing.html#returning-a-view-versus-a-copy\n",
      "  return super().drop(\n"
     ]
    },
    {
     "name": "stdout",
     "output_type": "stream",
     "text": [
      ">>> Elapsed time for: scrap_ids is: 3143.832622051239\n"
     ]
    },
    {
     "name": "stderr",
     "output_type": "stream",
     "text": [
      "C:\\Users\\BENREKIA\\Documents\\Stage\\Workspace\\1.2-bertopic-app\\notebooks\\..\\topicmod\\scraping\\aviscrap.py:126: SettingWithCopyWarning: \n",
      "A value is trying to be set on a copy of a slice from a DataFrame.\n",
      "Try using .loc[row_indexer,col_indexer] = value instead\n",
      "\n",
      "See the caveats in the documentation: https://pandas.pydata.org/pandas-docs/stable/user_guide/indexing.html#returning-a-view-versus-a-copy\n",
      "  df_wi['geopoints'] = df_wo.apply(lambda x: format_geopoints(x.lat, x.lng), axis=1)\n"
     ]
    }
   ],
   "source": [
    "df_ids = scrap_ids(df_agencies)"
   ]
  },
  {
   "cell_type": "code",
   "execution_count": 8,
   "id": "5d1216b5-5bea-416e-b5be-0326c81a36cd",
   "metadata": {
    "execution": {
     "iopub.execute_input": "2022-09-30T13:41:02.746991Z",
     "iopub.status.busy": "2022-09-30T13:41:02.746991Z",
     "iopub.status.idle": "2022-09-30T13:41:02.774933Z",
     "shell.execute_reply": "2022-09-30T13:41:02.773936Z",
     "shell.execute_reply.started": "2022-09-30T13:41:02.746991Z"
    },
    "tags": []
   },
   "outputs": [
    {
     "data": {
      "text/html": [
       "<div>\n",
       "<style scoped>\n",
       "    .dataframe tbody tr th:only-of-type {\n",
       "        vertical-align: middle;\n",
       "    }\n",
       "\n",
       "    .dataframe tbody tr th {\n",
       "        vertical-align: top;\n",
       "    }\n",
       "\n",
       "    .dataframe thead th {\n",
       "        text-align: right;\n",
       "    }\n",
       "</style>\n",
       "<table border=\"1\" class=\"dataframe\">\n",
       "  <thead>\n",
       "    <tr style=\"text-align: right;\">\n",
       "      <th></th>\n",
       "      <th>nom_banque</th>\n",
       "      <th>code_etab</th>\n",
       "      <th>nom_etab</th>\n",
       "      <th>code_agence</th>\n",
       "      <th>nom_agence</th>\n",
       "      <th>rue</th>\n",
       "      <th>place_id</th>\n",
       "      <th>place_name</th>\n",
       "      <th>rating</th>\n",
       "      <th>user_ratings_total</th>\n",
       "      <th>geopoints</th>\n",
       "    </tr>\n",
       "  </thead>\n",
       "  <tbody>\n",
       "    <tr>\n",
       "      <th>921</th>\n",
       "      <td>Banque Populaire</td>\n",
       "      <td>16607</td>\n",
       "      <td>Banque Populaire du Sud</td>\n",
       "      <td>00005</td>\n",
       "      <td>PRADES</td>\n",
       "      <td>20, rue Jean Jaurès</td>\n",
       "      <td>ChIJ4eXi8Mz9rxIRjKbvTF7Mfz0</td>\n",
       "      <td>Banque Populaire du Sud</td>\n",
       "      <td>4.0</td>\n",
       "      <td>5.0</td>\n",
       "      <td>NaN</td>\n",
       "    </tr>\n",
       "    <tr>\n",
       "      <th>2548</th>\n",
       "      <td>Banque de Savoie</td>\n",
       "      <td>10548</td>\n",
       "      <td>Banque de Savoie</td>\n",
       "      <td>1580</td>\n",
       "      <td>COURCHEVEL</td>\n",
       "      <td>La Croisette</td>\n",
       "      <td>ChIJ35lPSqx4iUcRbOa8q-TK5lI</td>\n",
       "      <td>Banque de Savoie - Courchevel</td>\n",
       "      <td>0.0</td>\n",
       "      <td>0.0</td>\n",
       "      <td>NaN</td>\n",
       "    </tr>\n",
       "    <tr>\n",
       "      <th>2587</th>\n",
       "      <td>Credit Cooperatif</td>\n",
       "      <td>42559</td>\n",
       "      <td>Crédit Coopératif</td>\n",
       "      <td>5</td>\n",
       "      <td>PARIS ALESIA</td>\n",
       "      <td>99, rue de la Tombe Issoire</td>\n",
       "      <td>ChIJ3_X0tbpx5kcR2ugoRbDWAXs</td>\n",
       "      <td>Crédit Coopératif</td>\n",
       "      <td>4.0</td>\n",
       "      <td>24.0</td>\n",
       "      <td>NaN</td>\n",
       "    </tr>\n",
       "  </tbody>\n",
       "</table>\n",
       "</div>"
      ],
      "text/plain": [
       "             nom_banque  code_etab                 nom_etab code_agence  \\\n",
       "921    Banque Populaire      16607  Banque Populaire du Sud       00005   \n",
       "2548   Banque de Savoie      10548         Banque de Savoie        1580   \n",
       "2587  Credit Cooperatif      42559        Crédit Coopératif           5   \n",
       "\n",
       "        nom_agence                          rue                     place_id  \\\n",
       "921         PRADES          20, rue Jean Jaurès  ChIJ4eXi8Mz9rxIRjKbvTF7Mfz0   \n",
       "2548    COURCHEVEL                 La Croisette  ChIJ35lPSqx4iUcRbOa8q-TK5lI   \n",
       "2587  PARIS ALESIA  99, rue de la Tombe Issoire  ChIJ3_X0tbpx5kcR2ugoRbDWAXs   \n",
       "\n",
       "                         place_name  rating  user_ratings_total geopoints  \n",
       "921         Banque Populaire du Sud     4.0                 5.0       NaN  \n",
       "2548  Banque de Savoie - Courchevel     0.0                 0.0       NaN  \n",
       "2587              Crédit Coopératif     4.0                24.0       NaN  "
      ]
     },
     "execution_count": 8,
     "metadata": {},
     "output_type": "execute_result"
    }
   ],
   "source": [
    "df_ids.sample(3)"
   ]
  },
  {
   "cell_type": "code",
   "execution_count": 9,
   "id": "4b00f911-e45c-47dc-8fce-64fbfdc1c80f",
   "metadata": {
    "execution": {
     "iopub.execute_input": "2022-09-30T13:41:18.153193Z",
     "iopub.status.busy": "2022-09-30T13:41:18.153193Z",
     "iopub.status.idle": "2022-09-30T13:47:59.286290Z",
     "shell.execute_reply": "2022-09-30T13:47:59.285293Z",
     "shell.execute_reply.started": "2022-09-30T13:41:18.153193Z"
    },
    "tags": []
   },
   "outputs": [
    {
     "name": "stdout",
     "output_type": "stream",
     "text": [
      ">>> Elapsed time for: scrap_reviews is: 401.12511944770813\n"
     ]
    }
   ],
   "source": [
    "df_reviews = scrap_reviews(df_ids)"
   ]
  },
  {
   "cell_type": "code",
   "execution_count": 10,
   "id": "06a3a421-a6e2-4cb9-baa9-2640267b3722",
   "metadata": {
    "execution": {
     "iopub.execute_input": "2022-09-30T13:47:59.288285Z",
     "iopub.status.busy": "2022-09-30T13:47:59.287287Z",
     "iopub.status.idle": "2022-09-30T13:47:59.334164Z",
     "shell.execute_reply": "2022-09-30T13:47:59.333165Z",
     "shell.execute_reply.started": "2022-09-30T13:47:59.287287Z"
    },
    "tags": []
   },
   "outputs": [
    {
     "data": {
      "text/html": [
       "<div>\n",
       "<style scoped>\n",
       "    .dataframe tbody tr th:only-of-type {\n",
       "        vertical-align: middle;\n",
       "    }\n",
       "\n",
       "    .dataframe tbody tr th {\n",
       "        vertical-align: top;\n",
       "    }\n",
       "\n",
       "    .dataframe thead th {\n",
       "        text-align: right;\n",
       "    }\n",
       "</style>\n",
       "<table border=\"1\" class=\"dataframe\">\n",
       "  <thead>\n",
       "    <tr style=\"text-align: right;\">\n",
       "      <th></th>\n",
       "      <th>nom_banque</th>\n",
       "      <th>code_etab</th>\n",
       "      <th>nom_etab</th>\n",
       "      <th>code_agence</th>\n",
       "      <th>nom_agence</th>\n",
       "      <th>rue</th>\n",
       "      <th>place_id</th>\n",
       "      <th>place_name</th>\n",
       "      <th>rating</th>\n",
       "      <th>user_ratings_total</th>\n",
       "      <th>geopoints</th>\n",
       "      <th>author_name</th>\n",
       "      <th>user_rating</th>\n",
       "      <th>text</th>\n",
       "      <th>review_date</th>\n",
       "      <th>address</th>\n",
       "    </tr>\n",
       "  </thead>\n",
       "  <tbody>\n",
       "    <tr>\n",
       "      <th>808</th>\n",
       "      <td>Banque Populaire</td>\n",
       "      <td>17807</td>\n",
       "      <td>Banque Populaire Occitane</td>\n",
       "      <td>00603</td>\n",
       "      <td>GRAULHET</td>\n",
       "      <td>10, pl de la République</td>\n",
       "      <td>ChIJ1X-bih14rhIRs3MEolW1KWU</td>\n",
       "      <td>Banque Populaire Occitane</td>\n",
       "      <td>3.5</td>\n",
       "      <td>17.0</td>\n",
       "      <td>NaN</td>\n",
       "      <td>Eric MAURIES</td>\n",
       "      <td>5</td>\n",
       "      <td>Banque avec accueil le matin en agence. Conseiller au top, très pro, mais débordés. Sinon agence depuis + de 30 ans à Graulhet avec des services financiers à peine plus chers qu'ailleurs, mais très utiles...</td>\n",
       "      <td>2021-10-21</td>\n",
       "      <td>10 Pl. de la République, 81300 Graulhet, France</td>\n",
       "    </tr>\n",
       "    <tr>\n",
       "      <th>15208</th>\n",
       "      <td>Caisse d'Epargne</td>\n",
       "      <td>11315</td>\n",
       "      <td>PROVENCE ALPES CORSE REUNION</td>\n",
       "      <td>175</td>\n",
       "      <td>SAINTE ANNE</td>\n",
       "      <td>374 AVENUE DE MAZARGUES</td>\n",
       "      <td>ChIJJYLw4LnAyRIRu7_K8DkgMts</td>\n",
       "      <td>Caisse d'Epargne Provence Alpes Corse Headquarters</td>\n",
       "      <td>2.5</td>\n",
       "      <td>8.0</td>\n",
       "      <td>NaN</td>\n",
       "      <td>Julie Siniscalchi</td>\n",
       "      <td>1</td>\n",
       "      <td>Nous avons contracté un prêt pour un achat dans le neuf et dans le même temps vendu notre maison.\\nAu déblocage des fonds pour l'achat de notre terrain la caisse d'épargne à délibérément et sans notre demande et accord réaliser 2 operations à fort impact financier, sans notre consentement:\\n- déblocage du crédit relais alors que nous avions demandé le déblocage d'un prêt principal contracté,\\n- déblocage d'un autre montant de crédit principal, alors que nous avons expressément demandé le prélèvement sur compte provisionné.\\nNous avons donc des frais de caution liés au déblocage du crédits relais non souhaité ainsi que des frais intercalaires supplémentaires liés au déblocage de sommes importantes non souhaitées. Un préjudice d'environ de 2000€ : c'est du V...L!\\nAUCUN SOUTIEN DE NOTRE AGENCE CEPAC ORANGE (84100) !</td>\n",
       "      <td>2022-02-05</td>\n",
       "      <td>3bis Cr Pierre Puget, 13006 Marseille, France</td>\n",
       "    </tr>\n",
       "    <tr>\n",
       "      <th>13705</th>\n",
       "      <td>Caisse d'Epargne</td>\n",
       "      <td>13335</td>\n",
       "      <td>AQUITAINE POITOU-CHARENTES</td>\n",
       "      <td>64023</td>\n",
       "      <td>BIZANOS</td>\n",
       "      <td>1, PLACE GAMBETTA</td>\n",
       "      <td>ChIJU-YPuNZIVg0ROphEoFo56aA</td>\n",
       "      <td>Caisse d'Epargne Bizanos</td>\n",
       "      <td>1.0</td>\n",
       "      <td>2.0</td>\n",
       "      <td>NaN</td>\n",
       "      <td>Rmano Beats</td>\n",
       "      <td>1</td>\n",
       "      <td>Des voleurs...</td>\n",
       "      <td>2017-08-30</td>\n",
       "      <td>1 Pl. Gambetta, 64320 Bizanos, France</td>\n",
       "    </tr>\n",
       "  </tbody>\n",
       "</table>\n",
       "</div>"
      ],
      "text/plain": [
       "             nom_banque  code_etab                      nom_etab code_agence  \\\n",
       "808    Banque Populaire      17807     Banque Populaire Occitane       00603   \n",
       "15208  Caisse d'Epargne      11315  PROVENCE ALPES CORSE REUNION         175   \n",
       "13705  Caisse d'Epargne      13335    AQUITAINE POITOU-CHARENTES       64023   \n",
       "\n",
       "        nom_agence                      rue                     place_id  \\\n",
       "808       GRAULHET  10, pl de la République  ChIJ1X-bih14rhIRs3MEolW1KWU   \n",
       "15208  SAINTE ANNE  374 AVENUE DE MAZARGUES  ChIJJYLw4LnAyRIRu7_K8DkgMts   \n",
       "13705      BIZANOS        1, PLACE GAMBETTA  ChIJU-YPuNZIVg0ROphEoFo56aA   \n",
       "\n",
       "                                               place_name  rating  \\\n",
       "808                             Banque Populaire Occitane     3.5   \n",
       "15208  Caisse d'Epargne Provence Alpes Corse Headquarters     2.5   \n",
       "13705                            Caisse d'Epargne Bizanos     1.0   \n",
       "\n",
       "       user_ratings_total geopoints        author_name user_rating  \\\n",
       "808                  17.0       NaN       Eric MAURIES           5   \n",
       "15208                 8.0       NaN  Julie Siniscalchi           1   \n",
       "13705                 2.0       NaN        Rmano Beats           1   \n",
       "\n",
       "                                                                                                                                                                                                                                                                                                                                                                                                                                                                                                                                                                                                                                                                                                                                                                                                                                                            text  \\\n",
       "808                                                                                                                                                                                                                                                                                                                                                                                                                                                                                                                                                                                                                                              Banque avec accueil le matin en agence. Conseiller au top, très pro, mais débordés. Sinon agence depuis + de 30 ans à Graulhet avec des services financiers à peine plus chers qu'ailleurs, mais très utiles...   \n",
       "15208  Nous avons contracté un prêt pour un achat dans le neuf et dans le même temps vendu notre maison.\\nAu déblocage des fonds pour l'achat de notre terrain la caisse d'épargne à délibérément et sans notre demande et accord réaliser 2 operations à fort impact financier, sans notre consentement:\\n- déblocage du crédit relais alors que nous avions demandé le déblocage d'un prêt principal contracté,\\n- déblocage d'un autre montant de crédit principal, alors que nous avons expressément demandé le prélèvement sur compte provisionné.\\nNous avons donc des frais de caution liés au déblocage du crédits relais non souhaité ainsi que des frais intercalaires supplémentaires liés au déblocage de sommes importantes non souhaitées. Un préjudice d'environ de 2000€ : c'est du V...L!\\nAUCUN SOUTIEN DE NOTRE AGENCE CEPAC ORANGE (84100) !   \n",
       "13705                                                                                                                                                                                                                                                                                                                                                                                                                                                                                                                                                                                                                                                                                                                                                                                                                                             Des voleurs...   \n",
       "\n",
       "      review_date                                          address  \n",
       "808    2021-10-21  10 Pl. de la République, 81300 Graulhet, France  \n",
       "15208  2022-02-05    3bis Cr Pierre Puget, 13006 Marseille, France  \n",
       "13705  2017-08-30            1 Pl. Gambetta, 64320 Bizanos, France  "
      ]
     },
     "execution_count": 10,
     "metadata": {},
     "output_type": "execute_result"
    }
   ],
   "source": [
    "df_reviews.sample(3)"
   ]
  },
  {
   "cell_type": "code",
   "execution_count": null,
   "id": "9681e88d-fde6-48b8-8358-18e0b3a00f3f",
   "metadata": {},
   "outputs": [],
   "source": [
    "# instead we can use scrap_all to lunch the scraping of both ids and reviews and get the merged dataframe\n",
    "df_total = scrap_all(df_agencies)"
   ]
  },
  {
   "cell_type": "markdown",
   "id": "6fcec87d-9870-4084-b56e-4443de845603",
   "metadata": {},
   "source": [
    "# Saving data to csv file"
   ]
  },
  {
   "cell_type": "code",
   "execution_count": 12,
   "id": "6c834ce6-b422-4707-bc80-4cd657dcd47a",
   "metadata": {
    "execution": {
     "iopub.execute_input": "2022-09-30T13:55:04.622116Z",
     "iopub.status.busy": "2022-09-30T13:55:04.621119Z",
     "iopub.status.idle": "2022-09-30T13:55:04.632092Z",
     "shell.execute_reply": "2022-09-30T13:55:04.631091Z",
     "shell.execute_reply.started": "2022-09-30T13:55:04.622116Z"
    }
   },
   "outputs": [],
   "source": [
    "from datetime import *"
   ]
  },
  {
   "cell_type": "code",
   "execution_count": 13,
   "id": "2efae6d2-04a0-4f9c-a9d8-45b0d3b7f42f",
   "metadata": {
    "execution": {
     "iopub.execute_input": "2022-09-30T13:55:06.578266Z",
     "iopub.status.busy": "2022-09-30T13:55:06.577270Z",
     "iopub.status.idle": "2022-09-30T13:55:06.684982Z",
     "shell.execute_reply": "2022-09-30T13:55:06.682993Z",
     "shell.execute_reply.started": "2022-09-30T13:55:06.578266Z"
    },
    "tags": []
   },
   "outputs": [
    {
     "name": "stdout",
     "output_type": "stream",
     "text": [
      "Written to ../data/output/scraping\\agences_ids_20220930.csv\n"
     ]
    }
   ],
   "source": [
    "output_df_ids = os.path.join(output_dir,\"agences_ids_{}.csv\".format(datetime.now().strftime(\"%Y%m%d\")))\n",
    "df_ids.to_csv(output_df_ids, sep=';', index=False, encoding='utf-8-sig')\n",
    "print(f\"Written to {output_df_ids}\")"
   ]
  },
  {
   "cell_type": "code",
   "execution_count": 14,
   "id": "ab3e1187-7216-4de8-b90e-a1df58ca4292",
   "metadata": {
    "execution": {
     "iopub.execute_input": "2022-09-30T13:55:07.649569Z",
     "iopub.status.busy": "2022-09-30T13:55:07.647567Z",
     "iopub.status.idle": "2022-09-30T13:55:07.771204Z",
     "shell.execute_reply": "2022-09-30T13:55:07.770204Z",
     "shell.execute_reply.started": "2022-09-30T13:55:07.649569Z"
    },
    "tags": []
   },
   "outputs": [
    {
     "name": "stdout",
     "output_type": "stream",
     "text": [
      "Written to ../data/output/scraping\\agences_reviews_20220930.csv\n"
     ]
    }
   ],
   "source": [
    "output_df_reviews = os.path.join(output_dir,\"agences_reviews_{}.csv\".format(datetime.now().strftime(\"%Y%m%d\")))\n",
    "df_ids.to_csv(output_df_reviews, sep=';', index=False, encoding='utf-8-sig')\n",
    "print(f\"Written to {output_df_reviews}\")"
   ]
  },
  {
   "cell_type": "code",
   "execution_count": null,
   "id": "84b3377e-4b65-4cb1-a3f6-fb4717f7f897",
   "metadata": {},
   "outputs": [],
   "source": []
  }
 ],
 "metadata": {
  "kernelspec": {
   "display_name": "Python 3 (ipykernel)",
   "language": "python",
   "name": "python3"
  },
  "language_info": {
   "codemirror_mode": {
    "name": "ipython",
    "version": 3
   },
   "file_extension": ".py",
   "mimetype": "text/x-python",
   "name": "python",
   "nbconvert_exporter": "python",
   "pygments_lexer": "ipython3",
   "version": "3.9.10"
  }
 },
 "nbformat": 4,
 "nbformat_minor": 5
}
